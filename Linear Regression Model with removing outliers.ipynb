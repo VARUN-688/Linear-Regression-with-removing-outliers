{
 "cells": [
  {
   "cell_type": "code",
   "execution_count": 1,
   "id": "32972b56",
   "metadata": {},
   "outputs": [],
   "source": [
    "import pandas as pd\n",
    "import numpy as np"
   ]
  },
  {
   "cell_type": "code",
   "execution_count": 2,
   "id": "48fc458b",
   "metadata": {},
   "outputs": [],
   "source": [
    "def get_variance(func):\n",
    "        def wrap(a):\n",
    "            x_mean=np.mean(a)\n",
    "            temp_x=[t**2 for t in a-x_mean]\n",
    "            variance_x=np.sum(temp_x)/(len(a))\n",
    "            s_x=variance_x**0.5\n",
    "            dic={'Mean':x_mean,'Variance':variance_x,'Standard_Deviation':s_x}\n",
    "            return dic\n",
    "\n",
    "        return wrap\n",
    "@get_variance\n",
    "def get_standard_deviation(a):\n",
    "        pass"
   ]
  },
  {
   "cell_type": "code",
   "execution_count": 3,
   "id": "b1899b20",
   "metadata": {},
   "outputs": [],
   "source": [
    " def covariance(func):\n",
    "        def wrap(a,b):\n",
    "            x=get_standard_deviation(a)\n",
    "            y=get_standard_deviation(b)\n",
    "            temp_xy=(np.sum((a-x['Mean'])*(b-y['Mean'])))/(x['Standard_Deviation']*y['Standard_Deviation'])\n",
    "            coefficient_r=temp_xy/len(a)\n",
    "            return (coefficient_r,x,y)\n",
    "        return wrap\n",
    "@covariance\n",
    "def get_coefficient(a,b):\n",
    "        pass\n",
    "    "
   ]
  },
  {
   "cell_type": "code",
   "execution_count": 4,
   "id": "e7621473",
   "metadata": {},
   "outputs": [],
   "source": [
    "def get_eqaution(a,b):\n",
    "    c=get_coefficient(a,b)\n",
    "    slope=c[0]*(c[2]['Standard_Deviation']/c[1]['Standard_Deviation'])\n",
    "    intercept=c[2]['Mean']-c[1]['Mean']*slope\n",
    "    return f'y={slope}x+{intercept}'"
   ]
  },
  {
   "cell_type": "code",
   "execution_count": 5,
   "id": "25ead85e",
   "metadata": {},
   "outputs": [],
   "source": [
    "class my_LinearRegression:\n",
    "    def __init(self):\n",
    "        self.x=[]\n",
    "        self.y=[]\n",
    "        self.variance_x=0\n",
    "        self.variance_y=0\n",
    "        self.s_x=0\n",
    "        self.s_y=0\n",
    "        self.coefficient_r=0\n",
    "    def get_outliers(self,x):\n",
    "        x=np.array(x.sort_values())\n",
    "        med=np.median(x)\n",
    "        med=len(x)//2\n",
    "        q1=x[:med]\n",
    "        q3=x[med+1:]\n",
    "        med_1=q1[len(q1)//2]\n",
    "        med_3=q3[len(q3)//2]\n",
    "        iqr=med_3-med_1\n",
    "        out_1=x[x<(med_1-(1.5*iqr))]\n",
    "        out_2=x[x>(med_3+(1.5*iqr))]\n",
    "        outliers=np.concatenate([out_1,out_2])\n",
    "        return outliers\n",
    "            \n",
    "    \n",
    "    \n",
    "    \n",
    "    \n",
    "    \n",
    "    \n",
    "    def get_variance(func):\n",
    "        def wrap(self,a):\n",
    "            \n",
    "            x_mean=np.mean(a)\n",
    "            temp_x=[t**2 for t in a-x_mean]\n",
    "            variance_x=np.sum(temp_x)/(len(a))\n",
    "            s_x=variance_x**0.5\n",
    "            dic={'Mean':x_mean,'Variance':variance_x,'Standard_Deviation':s_x}\n",
    "            return dic\n",
    "\n",
    "        return wrap\n",
    "    \n",
    "    @get_variance\n",
    "    def get_standard_deviation(self,a):\n",
    "        pass\n",
    "    \n",
    "    \n",
    "    def covariance(func):\n",
    "        def wrap(self):\n",
    "            a=self.x\n",
    "            b=self.y\n",
    "            temp_x=self.get_standard_deviation(a)\n",
    "            temp_y=self.get_standard_deviation(b)\n",
    "            self.x_variance_x=temp_x['Variance']\n",
    "            self.s_x=temp_x['Standard_Deviation']\n",
    "            self.y_variance=temp_y['Variance']\n",
    "            self.s_y=temp_y['Standard_Deviation']\n",
    "            temp_xy=(np.sum((a-temp_x['Mean'])*(b-temp_y['Mean'])))/(temp_x['Standard_Deviation']*temp_y['Standard_Deviation'])\n",
    "            coefficient_r=temp_xy/len(a)\n",
    "            return (coefficient_r,temp_x,temp_y)\n",
    "        return wrap\n",
    "    \n",
    "    @covariance\n",
    "    def get_coefficient(self):\n",
    "        pass\n",
    "    \n",
    "    \n",
    "    def get_equation(self):\n",
    "        c=self.get_coefficient()\n",
    "        self.coefficient_r=c[0]\n",
    "        self.slope=c[0]*(c[2]['Standard_Deviation']/c[1]['Standard_Deviation'])\n",
    "        self.intercept=c[2]['Mean']-c[1]['Mean']*self.slope\n",
    "        return f'y={self.slope}x+({self.intercept})'\n",
    "    \n",
    "    \n",
    "    def fit(self,a,b):\n",
    "        try:\n",
    "            df = pd.DataFrame({'X': np.array(a).flatten(),'y':np.array(b).flatten()})\n",
    "            df=df.loc[(~df['X'].isin(self.get_outliers(df.X))) & (~df['y'].isin(self.get_outliers(df.y)))]\n",
    "            self.x=np.array(df['X'])\n",
    "            self.y=np.array(df['y'])\n",
    "            self.equation=self.get_equation()\n",
    "        except:\n",
    "            raise\n",
    "    def predict(self,x_test,y_test):\n",
    "        res=[]\n",
    "        \n",
    "        for i in x_test:\n",
    "            res.append(self.slope*i+self.intercept)\n",
    "            \n",
    "        y_predict=res\n",
    "        \n",
    "        r_squa=self.r_squared(y_test,y_predict)\n",
    "        \n",
    "        n = len(y_test)\n",
    "        \n",
    "        rmse = np.sqrt(np.sum((y_test - y_predict)**2) / n)\n",
    "        \n",
    "        return (f'The model has R-Sqaured = {r_squa} and RMSE={rmse}',y_predict)\n",
    "    \n",
    "    def r_squared(self, y_test, y_predict):\n",
    "        mean_actual = np.mean(y_test)\n",
    "        r_squared = 1 - (np.sum((y_test - y_predict)**2) / np.sum((y_test - mean_actual)**2))\n",
    "        return r_squared\n",
    "\n",
    "    def __repr__(self):\n",
    "        return f'The model has the equation as {self.equation}'"
   ]
  },
  {
   "cell_type": "code",
   "execution_count": 6,
   "id": "21b5674b",
   "metadata": {},
   "outputs": [
    {
     "name": "stdout",
     "output_type": "stream",
     "text": [
      "The model has R-Sqaured = 0.8068721884744532 and RMSE=12501.400431699813\n",
      "The model has the equation as y=869.4082238921319x+(-17061.633843936834)\n"
     ]
    }
   ],
   "source": [
    "from sklearn.model_selection import train_test_split\n",
    "from sklearn.linear_model import LinearRegression\n",
    "from sklearn.metrics import r2_score, mean_squared_error\n",
    "\n",
    "np.random.seed(42)\n",
    "np.random.seed(42)\n",
    "X_new = np.random.randint(1, 101, size=(100,))\n",
    "y_new = 3 * X_new ** 1.5 - 5 * X_new + 10 + 0.1 * X_new ** 3 + np.random.normal(scale=20, size=(100,)) + 10 * np.sin(0.1 * X_new ** 2)\n",
    "\n",
    "X_train, X_test, y_train, y_test = train_test_split(X_new, y_new, test_size=0.2, random_state=42)\n",
    "\n",
    "# Create and train the model\n",
    "model1 = my_LinearRegression()\n",
    "model1.fit(X_train, y_train)\n",
    "\n",
    "# Make predictions and evaluate the model\n",
    "results, y_predict_my = model1.predict(X_test, y_test)\n",
    "print(results)\n",
    "\n",
    "# Print the model's equation\n",
    "print(model1)\n",
    "\n",
    "\n"
   ]
  },
  {
   "cell_type": "code",
   "execution_count": 7,
   "id": "ff51df61",
   "metadata": {},
   "outputs": [
    {
     "name": "stdout",
     "output_type": "stream",
     "text": [
      "The model has the equation as y = 869.408223892132x + -17061.63384393684\n",
      "The model has R-Squared = 0.8068721884744532\n",
      "The model has RMSE = 12501.400431699813\n"
     ]
    }
   ],
   "source": [
    "model = LinearRegression()\n",
    "\n",
    "# Reshape the data to be 2D arrays\n",
    "X_train = X_train.reshape(-1, 1)\n",
    "X_test = X_test.reshape(-1, 1)\n",
    "\n",
    "model = LinearRegression()\n",
    "model.fit(X_train, y_train)\n",
    "\n",
    "y_pred = model.predict(X_test)\n",
    "\n",
    "r_squared = r2_score(y_test, y_pred)\n",
    "rmse = np.sqrt(mean_squared_error(y_test, y_pred))\n",
    "\n",
    "# Print model parameters and evaluation metrics\n",
    "print(f\"The model has the equation as y = {model.coef_[0]}x + {model.intercept_}\")\n",
    "print(f\"The model has R-Squared = {r_squared}\")\n",
    "print(f\"The model has RMSE = {rmse}\")"
   ]
  },
  {
   "cell_type": "code",
   "execution_count": 8,
   "id": "ca53e151",
   "metadata": {},
   "outputs": [],
   "source": [
    "import matplotlib.pyplot as plt"
   ]
  },
  {
   "cell_type": "code",
   "execution_count": 9,
   "id": "e2d0293a",
   "metadata": {},
   "outputs": [
    {
     "data": {
      "image/png": "[encoded data removed]",
      "text/plain": [
       "<Figure size 1400x600 with 2 Axes>"
      ]
     },
     "metadata": {},
     "output_type": "display_data"
    }
   ],
   "source": [
    "fig, (ax1, ax2) = plt.subplots(1, 2, figsize=(14, 6))\n",
    "\n",
    "# Plot the model predictions\n",
    "ax1.scatter(X_test, y_pred, color='r', label='Predicted')\n",
    "ax1.scatter(X_test, y_test, color='b', label='Actual')\n",
    "ax1.set_xlabel('X_test')\n",
    "ax1.set_ylabel('Values')\n",
    "ax1.set_title('Linear Regression Predictions vs Actual')\n",
    "ax1.legend()\n",
    "\n",
    "# Plot the module-based model predictions\n",
    "ax2.scatter(X_test, y_predict_my, color='g', label='Module-Based Predicted')\n",
    "ax2.scatter(X_test, y_test, color='b', label='Actual')\n",
    "ax2.set_xlabel('X_test')\n",
    "ax2.set_ylabel('Values')\n",
    "ax2.set_title('Module-Based Model Predictions vs Actual')\n",
    "ax2.legend()\n",
    "\n",
    "# Display the plot\n",
    "plt.tight_layout()\n",
    "plt.show()"
   ]
  }
 ],
 "metadata": {
  "kernelspec": {
   "display_name": "Python 3 (ipykernel)",
   "language": "python",
   "name": "python3"
  },
  "language_info": {
   "codemirror_mode": {
    "name": "ipython",
    "version": 3
   },
   "file_extension": ".py",
   "mimetype": "text/x-python",
   "name": "python",
   "nbconvert_exporter": "python",
   "pygments_lexer": "ipython3",
   "version": "3.10.9"
  }
 },
 "nbformat": 4,
 "nbformat_minor": 5
}
